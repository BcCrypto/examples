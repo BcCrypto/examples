{
  "nbformat": 4,
  "nbformat_minor": 0,
  "metadata": {
    "colab": {
      "name": "Linear Model with Estimators.ipynb",
      "version": "0.3.2",
      "provenance": [],
      "include_colab_link": true
    },
    "kernelspec": {
      "name": "python3",
      "display_name": "Python 3"
    }
  },
  "cells": [
    {
      "cell_type": "markdown",
      "metadata": {
        "id": "view-in-github",
        "colab_type": "text"
      },
      "source": [
        "<a href=\"https://colab.research.google.com/github/BcCrypto/examples/blob/master/Linear_Model_with_Estimators.ipynb\" target=\"_parent\"><img src=\"https://colab.research.google.com/assets/colab-badge.svg\" alt=\"Open In Colab\"/></a>"
      ]
    },
    {
      "cell_type": "code",
      "metadata": {
        "id": "jLP3nURpk4jS",
        "colab_type": "code",
        "colab": {}
      },
      "source": [
        "from __future__ import absolute_import, division, print_function, unicode_literals\n",
        "\n",
        "import tensorflow as tf\n",
        "import tensorflow.feature_column as fc\n",
        "\n",
        "import os\n",
        "import sys\n",
        "\n",
        "import matplotlib.pyplot as plt\n",
        "from IPython.display import clear_output"
      ],
      "execution_count": 0,
      "outputs": []
    },
    {
      "cell_type": "code",
      "metadata": {
        "id": "B-SVjIYolBzP",
        "colab_type": "code",
        "colab": {}
      },
      "source": [
        "tf.enable_eager_execution()"
      ],
      "execution_count": 0,
      "outputs": []
    },
    {
      "cell_type": "code",
      "metadata": {
        "id": "nz_JUBrBlFj-",
        "colab_type": "code",
        "colab": {
          "base_uri": "https://localhost:8080/",
          "height": 153
        },
        "outputId": "1c878f68-b1f9-46ff-b3e6-934d5c8d6263"
      },
      "source": [
        "! pip install -q requests\n",
        "! git clone --depth 1 https://github.com/tensorflow/models"
      ],
      "execution_count": 3,
      "outputs": [
        {
          "output_type": "stream",
          "text": [
            "Cloning into 'models'...\n",
            "remote: Enumerating objects: 3217, done.\u001b[K\n",
            "remote: Counting objects: 100% (3217/3217), done.\u001b[K\n",
            "remote: Compressing objects: 100% (2741/2741), done.\u001b[K\n",
            "remote: Total 3217 (delta 582), reused 2040 (delta 399), pack-reused 0\u001b[K\n",
            "Receiving objects: 100% (3217/3217), 370.67 MiB | 36.80 MiB/s, done.\n",
            "Resolving deltas: 100% (582/582), done.\n",
            "Checking out files: 100% (3048/3048), done.\n"
          ],
          "name": "stdout"
        }
      ]
    },
    {
      "cell_type": "code",
      "metadata": {
        "id": "0pwd8k0MlHSB",
        "colab_type": "code",
        "colab": {}
      },
      "source": [
        "models_path = os.path.join(os.getcwd(), 'models')\n",
        "\n",
        "sys.path.append(models_path)"
      ],
      "execution_count": 0,
      "outputs": []
    },
    {
      "cell_type": "code",
      "metadata": {
        "id": "wpOSF24ZlSIW",
        "colab_type": "code",
        "colab": {}
      },
      "source": [
        "from official.wide_deep import census_dataset\n",
        "from official.wide_deep import census_main\n",
        "\n",
        "census_dataset.download(\"/tmp/census_data/\")"
      ],
      "execution_count": 0,
      "outputs": []
    },
    {
      "cell_type": "code",
      "metadata": {
        "id": "30hbXt2qlkt2",
        "colab_type": "code",
        "colab": {}
      },
      "source": [
        "#export PYTHONPATH=${PYTHONPATH}:\"$(pwd)/models\"\n",
        "#running from python you need to set the `os.environ` or the subprocess will not see the directory.\n",
        "\n",
        "if \"PYTHONPATH\" in os.environ:\n",
        "  os.environ['PYTHONPATH'] += os.pathsep +  models_path\n",
        "else:\n",
        "  os.environ['PYTHONPATH'] = models_path"
      ],
      "execution_count": 0,
      "outputs": []
    },
    {
      "cell_type": "code",
      "metadata": {
        "id": "4kgaLLGDlmLp",
        "colab_type": "code",
        "colab": {
          "base_uri": "https://localhost:8080/",
          "height": 1000
        },
        "outputId": "7f21d94c-3c57-47f4-8074-8058b5f07035"
      },
      "source": [
        "!python -m official.wide_deep.census_main --help"
      ],
      "execution_count": 12,
      "outputs": [
        {
          "output_type": "stream",
          "text": [
            "WARNING: Logging before flag parsing goes to stderr.\n",
            "W0728 21:57:18.465893 140362002524032 deprecation_wrapper.py:119] From /content/models/official/wide_deep/census_main.py:114: The name tf.logging.set_verbosity is deprecated. Please use tf.compat.v1.logging.set_verbosity instead.\n",
            "\n",
            "W0728 21:57:18.466246 140362002524032 deprecation_wrapper.py:119] From /content/models/official/wide_deep/census_main.py:114: The name tf.logging.INFO is deprecated. Please use tf.compat.v1.logging.INFO instead.\n",
            "\n",
            "Train DNN on census income dataset.\n",
            "flags:\n",
            "\n",
            "/content/models/official/wide_deep/census_main.py:\n",
            "  -bs,--batch_size:\n",
            "    Batch size for training and evaluation. When using multiple gpus, this is\n",
            "    the\n",
            "    global batch size for all devices. For example, if the batch size is 32 and\n",
            "    there are 4 GPUs, each GPU will get 8 examples on each step.\n",
            "    (default: '40')\n",
            "    (an integer)\n",
            "  --[no]clean:\n",
            "    If set, model_dir will be removed if it exists.\n",
            "    (default: 'false')\n",
            "  -dd,--data_dir:\n",
            "    The location of the input data.\n",
            "    (default: '/tmp/census_data')\n",
            "  --[no]download_if_missing:\n",
            "    Download data to data_dir if it is not already present.\n",
            "    (default: 'true')\n",
            "  -ebe,--epochs_between_evals:\n",
            "    The number of training epochs to run between evaluations.\n",
            "    (default: '2')\n",
            "    (an integer)\n",
            "  -ed,--export_dir:\n",
            "    If set, a SavedModel serialization of the model will be exported to this\n",
            "    directory at the end of training. See the README for more details and\n",
            "    relevant\n",
            "    links.\n",
            "  -hk,--hooks:\n",
            "    A list of (case insensitive) strings to specify the names of training hooks.\n",
            "    ﻿  Hook:\n",
            "    ﻿    loggingtensorhook\n",
            "    ﻿    profilerhook\n",
            "    ﻿    examplespersecondhook\n",
            "    ﻿    loggingmetrichook\n",
            "    ﻿    stepcounterhook\n",
            "    ﻿  Example: `--hooks ProfilerHook,ExamplesPerSecondHook`\n",
            "    See official.utils.logs.hooks_helper for details.\n",
            "    (default: 'LoggingTensorHook')\n",
            "    (a comma separated list)\n",
            "  -md,--model_dir:\n",
            "    The location of the model checkpoint files.\n",
            "    (default: '/tmp/census_model')\n",
            "  -mt,--model_type: <wide|deep|wide_deep>: Select model topology.\n",
            "    (default: 'wide_deep')\n",
            "  -te,--train_epochs:\n",
            "    The number of epochs used to train.\n",
            "    (default: '40')\n",
            "    (an integer)\n",
            "\n",
            "Try --helpfull to get a list of all flags.\n"
          ],
          "name": "stdout"
        }
      ]
    },
    {
      "cell_type": "code",
      "metadata": {
        "id": "_L5S8AqclpYQ",
        "colab_type": "code",
        "colab": {
          "base_uri": "https://localhost:8080/",
          "height": 1000
        },
        "outputId": "2107ab24-f209-4ed7-f2ed-e9b1b04e28b5"
      },
      "source": [
        "!python -m official.wide_deep.census_main --model_type=wide --train_epochs=2"
      ],
      "execution_count": 13,
      "outputs": [
        {
          "output_type": "stream",
          "text": [
            "WARNING: Logging before flag parsing goes to stderr.\n",
            "W0728 21:58:08.412087 140239895005056 deprecation_wrapper.py:119] From /content/models/official/wide_deep/census_main.py:114: The name tf.logging.set_verbosity is deprecated. Please use tf.compat.v1.logging.set_verbosity instead.\n",
            "\n",
            "W0728 21:58:08.412444 140239895005056 deprecation_wrapper.py:119] From /content/models/official/wide_deep/census_main.py:114: The name tf.logging.INFO is deprecated. Please use tf.compat.v1.logging.INFO instead.\n",
            "\n",
            "W0728 21:58:08.415704 140239895005056 deprecation_wrapper.py:119] From /content/models/official/wide_deep/census_dataset.py:78: The name tf.gfile.MakeDirs is deprecated. Please use tf.io.gfile.makedirs instead.\n",
            "\n",
            "W0728 21:58:08.415970 140239895005056 deprecation_wrapper.py:119] From /content/models/official/wide_deep/census_dataset.py:81: The name tf.gfile.Exists is deprecated. Please use tf.io.gfile.exists instead.\n",
            "\n",
            "W0728 21:58:08.417126 140239895005056 deprecation_wrapper.py:119] From /content/models/official/wide_deep/census_main.py:49: The name tf.ConfigProto is deprecated. Please use tf.compat.v1.ConfigProto instead.\n",
            "\n",
            "I0728 21:58:08.417943 140239895005056 estimator.py:209] Using config: {'_model_dir': '/tmp/census_model', '_tf_random_seed': None, '_save_summary_steps': 100, '_save_checkpoints_steps': None, '_save_checkpoints_secs': 600, '_session_config': device_count {\n",
            "  key: \"GPU\"\n",
            "  value: 0\n",
            "}\n",
            ", '_keep_checkpoint_max': 5, '_keep_checkpoint_every_n_hours': 10000, '_log_step_count_steps': 100, '_train_distribute': None, '_device_fn': None, '_protocol': None, '_eval_distribute': None, '_experimental_distribute': None, '_experimental_max_worker_delay_secs': None, '_service': None, '_cluster_spec': <tensorflow.python.training.server_lib.ClusterSpec object at 0x7f8bfb4bdbe0>, '_task_type': 'worker', '_task_id': 0, '_global_id_in_cluster': 0, '_master': '', '_evaluation_master': '', '_is_chief': True, '_num_ps_replicas': 0, '_num_worker_replicas': 1}\n",
            "W0728 21:58:08.419409 140239895005056 logger.py:387] 'cpuinfo' not imported. CPU info will not be logged.\n",
            "I0728 21:58:13.478388 140239895005056 logger.py:152] Benchmark run: {'model_name': 'wide_deep', 'dataset': {'name': 'Census Income'}, 'machine_config': {'memory_total': 13655322624, 'memory_available': 12629037056}, 'test_id': None, 'run_date': '2019-07-28T21:58:08.418903Z', 'tensorflow_version': {'version': '1.14.0', 'git_hash': 'v1.14.0-0-g87989f6959'}, 'tensorflow_environment_variables': [{'name': 'TF_FORCE_GPU_ALLOW_GROWTH', 'value': 'true'}], 'run_parameters': [{'name': 'batch_size', 'long_value': 40}, {'name': 'model_type', 'string_value': 'wide'}, {'name': 'train_epochs', 'long_value': 2}]}\n",
            "W0728 21:58:13.534436 140239895005056 deprecation.py:323] From /usr/local/lib/python3.6/dist-packages/tensorflow/python/training/training_util.py:236: Variable.initialized_value (from tensorflow.python.ops.variables) is deprecated and will be removed in a future version.\n",
            "Instructions for updating:\n",
            "Use Variable.read_value. Variables in 2.X are initialized automatically both in eager and graph (inside tf.defun) contexts.\n",
            "W0728 21:58:13.578832 140239895005056 deprecation_wrapper.py:119] From /content/models/official/wide_deep/census_dataset.py:167: The name tf.logging.info is deprecated. Please use tf.compat.v1.logging.info instead.\n",
            "\n",
            "I0728 21:58:13.579103 140239895005056 census_dataset.py:167] Parsing /tmp/census_data/adult.data\n",
            "W0728 21:58:13.579232 140239895005056 deprecation_wrapper.py:119] From /content/models/official/wide_deep/census_dataset.py:168: The name tf.decode_csv is deprecated. Please use tf.io.decode_csv instead.\n",
            "\n",
            "I0728 21:58:13.627563 140239895005056 estimator.py:1145] Calling model_fn.\n",
            "W0728 21:58:14.036550 140239895005056 deprecation.py:323] From /usr/local/lib/python3.6/dist-packages/tensorflow/python/ops/sparse_ops.py:1719: add_dispatch_support.<locals>.wrapper (from tensorflow.python.ops.array_ops) is deprecated and will be removed in a future version.\n",
            "Instructions for updating:\n",
            "Use tf.where in 2.0, which has the same broadcast rule as np.where\n",
            "W0728 21:58:14.649744 140239895005056 deprecation.py:323] From /usr/local/lib/python3.6/dist-packages/tensorflow_estimator/python/estimator/canned/linear.py:308: to_float (from tensorflow.python.ops.math_ops) is deprecated and will be removed in a future version.\n",
            "Instructions for updating:\n",
            "Use `tf.cast` instead.\n",
            "I0728 21:58:15.364140 140239895005056 estimator.py:1147] Done calling model_fn.\n",
            "I0728 21:58:15.364590 140239895005056 basic_session_run_hooks.py:541] Create CheckpointSaverHook.\n",
            "I0728 21:58:15.964540 140239895005056 monitored_session.py:240] Graph was finalized.\n",
            "2019-07-28 21:58:15.985666: I tensorflow/core/platform/profile_utils/cpu_utils.cc:94] CPU Frequency: 2200000000 Hz\n",
            "2019-07-28 21:58:15.986001: I tensorflow/compiler/xla/service/service.cc:168] XLA service 0x1e7d2c0 executing computations on platform Host. Devices:\n",
            "2019-07-28 21:58:15.986059: I tensorflow/compiler/xla/service/service.cc:175]   StreamExecutor device (0): <undefined>, <undefined>\n",
            "2019-07-28 21:58:16.201409: W tensorflow/compiler/jit/mark_for_compilation_pass.cc:1412] (One-time warning): Not using XLA:CPU for cluster because envvar TF_XLA_FLAGS=--tf_xla_cpu_global_jit was not set.  If you want XLA:CPU, either set that envvar, or use experimental_jit_scope to enable XLA:CPU.  To confirm that XLA is active, pass --vmodule=xla_compilation_cache=1 (as a proper command-line flag, not via TF_XLA_FLAGS) or set the envvar XLA_FLAGS=--xla_hlo_profile.\n",
            "I0728 21:58:16.298931 140239895005056 session_manager.py:500] Running local_init_op.\n",
            "I0728 21:58:16.336797 140239895005056 session_manager.py:502] Done running local_init_op.\n",
            "I0728 21:58:17.258824 140239895005056 basic_session_run_hooks.py:606] Saving checkpoints for 0 into /tmp/census_model/model.ckpt.\n",
            "I0728 21:58:18.493300 140239895005056 basic_session_run_hooks.py:262] average_loss = 0.6931472, loss = 27.725887\n",
            "I0728 21:58:18.493887 140239895005056 basic_session_run_hooks.py:262] loss = 27.725887, step = 1\n",
            "I0728 21:58:19.263715 140239895005056 basic_session_run_hooks.py:692] global_step/sec: 129.739\n",
            "I0728 21:58:19.264595 140239895005056 basic_session_run_hooks.py:260] average_loss = 0.17797028, loss = 7.118811 (0.771 sec)\n",
            "I0728 21:58:19.264939 140239895005056 basic_session_run_hooks.py:260] loss = 7.118811, step = 101 (0.771 sec)\n",
            "I0728 21:58:19.589993 140239895005056 basic_session_run_hooks.py:692] global_step/sec: 306.491\n",
            "I0728 21:58:19.590909 140239895005056 basic_session_run_hooks.py:260] average_loss = 0.2705749, loss = 10.822996 (0.326 sec)\n",
            "I0728 21:58:19.591261 140239895005056 basic_session_run_hooks.py:260] loss = 10.822996, step = 201 (0.326 sec)\n",
            "I0728 21:58:19.922868 140239895005056 basic_session_run_hooks.py:692] global_step/sec: 300.415\n",
            "I0728 21:58:19.923822 140239895005056 basic_session_run_hooks.py:260] average_loss = 0.3107986, loss = 12.431944 (0.333 sec)\n",
            "I0728 21:58:19.924067 140239895005056 basic_session_run_hooks.py:260] loss = 12.431944, step = 301 (0.333 sec)\n",
            "I0728 21:58:20.281479 140239895005056 basic_session_run_hooks.py:692] global_step/sec: 278.867\n",
            "I0728 21:58:20.282444 140239895005056 basic_session_run_hooks.py:260] average_loss = 0.33610326, loss = 13.44413 (0.359 sec)\n",
            "I0728 21:58:20.282675 140239895005056 basic_session_run_hooks.py:260] loss = 13.44413, step = 401 (0.359 sec)\n",
            "I0728 21:58:20.634965 140239895005056 basic_session_run_hooks.py:692] global_step/sec: 282.882\n",
            "I0728 21:58:20.635931 140239895005056 basic_session_run_hooks.py:260] average_loss = 0.35241547, loss = 14.096619 (0.353 sec)\n",
            "I0728 21:58:20.636203 140239895005056 basic_session_run_hooks.py:260] loss = 14.096619, step = 501 (0.354 sec)\n",
            "I0728 21:58:20.985479 140239895005056 basic_session_run_hooks.py:692] global_step/sec: 285.301\n",
            "I0728 21:58:20.986417 140239895005056 basic_session_run_hooks.py:260] average_loss = 0.37031722, loss = 14.812689 (0.350 sec)\n",
            "I0728 21:58:20.986747 140239895005056 basic_session_run_hooks.py:260] loss = 14.812689, step = 601 (0.351 sec)\n",
            "I0728 21:58:21.324777 140239895005056 basic_session_run_hooks.py:692] global_step/sec: 294.721\n",
            "I0728 21:58:21.325682 140239895005056 basic_session_run_hooks.py:260] average_loss = 0.38622156, loss = 15.448862 (0.339 sec)\n",
            "I0728 21:58:21.325928 140239895005056 basic_session_run_hooks.py:260] loss = 15.448862, step = 701 (0.339 sec)\n",
            "I0728 21:58:21.663011 140239895005056 basic_session_run_hooks.py:692] global_step/sec: 295.662\n",
            "I0728 21:58:21.663964 140239895005056 basic_session_run_hooks.py:260] average_loss = 0.2565124, loss = 10.260496 (0.338 sec)\n",
            "I0728 21:58:21.664219 140239895005056 basic_session_run_hooks.py:260] loss = 10.260496, step = 801 (0.338 sec)\n",
            "I0728 21:58:22.074652 140239895005056 basic_session_run_hooks.py:692] global_step/sec: 242.922\n",
            "I0728 21:58:22.075419 140239895005056 basic_session_run_hooks.py:260] average_loss = 0.31638876, loss = 12.65555 (0.411 sec)\n",
            "I0728 21:58:22.075644 140239895005056 basic_session_run_hooks.py:260] loss = 12.65555, step = 901 (0.411 sec)\n",
            "I0728 21:58:22.419876 140239895005056 basic_session_run_hooks.py:692] global_step/sec: 289.661\n",
            "I0728 21:58:22.420685 140239895005056 basic_session_run_hooks.py:260] average_loss = 0.26573852, loss = 10.62954 (0.345 sec)\n",
            "I0728 21:58:22.420920 140239895005056 basic_session_run_hooks.py:260] loss = 10.62954, step = 1001 (0.345 sec)\n",
            "I0728 21:58:22.770580 140239895005056 basic_session_run_hooks.py:692] global_step/sec: 285.148\n",
            "I0728 21:58:22.771465 140239895005056 basic_session_run_hooks.py:260] average_loss = 0.39888665, loss = 15.955466 (0.351 sec)\n",
            "I0728 21:58:22.771692 140239895005056 basic_session_run_hooks.py:260] loss = 15.955466, step = 1101 (0.351 sec)\n",
            "I0728 21:58:23.127517 140239895005056 basic_session_run_hooks.py:692] global_step/sec: 280.166\n",
            "I0728 21:58:23.128392 140239895005056 basic_session_run_hooks.py:260] average_loss = 0.40420923, loss = 16.16837 (0.357 sec)\n",
            "I0728 21:58:23.128743 140239895005056 basic_session_run_hooks.py:260] loss = 16.16837, step = 1201 (0.357 sec)\n",
            "I0728 21:58:23.463826 140239895005056 basic_session_run_hooks.py:692] global_step/sec: 297.344\n",
            "I0728 21:58:23.464611 140239895005056 basic_session_run_hooks.py:260] average_loss = 0.2777385, loss = 11.109541 (0.336 sec)\n",
            "I0728 21:58:23.464826 140239895005056 basic_session_run_hooks.py:260] loss = 11.109541, step = 1301 (0.336 sec)\n",
            "I0728 21:58:23.801146 140239895005056 basic_session_run_hooks.py:692] global_step/sec: 296.467\n",
            "I0728 21:58:23.802046 140239895005056 basic_session_run_hooks.py:260] average_loss = 0.25692436, loss = 10.276975 (0.337 sec)\n",
            "I0728 21:58:23.802272 140239895005056 basic_session_run_hooks.py:260] loss = 10.276975, step = 1401 (0.337 sec)\n",
            "I0728 21:58:24.135908 140239895005056 basic_session_run_hooks.py:692] global_step/sec: 298.698\n",
            "I0728 21:58:24.136833 140239895005056 basic_session_run_hooks.py:260] average_loss = 0.2716064, loss = 10.864256 (0.335 sec)\n",
            "I0728 21:58:24.137098 140239895005056 basic_session_run_hooks.py:260] loss = 10.864256, step = 1501 (0.335 sec)\n",
            "I0728 21:58:24.472786 140239895005056 basic_session_run_hooks.py:692] global_step/sec: 296.851\n",
            "I0728 21:58:24.473709 140239895005056 basic_session_run_hooks.py:260] average_loss = 0.34084395, loss = 13.633758 (0.337 sec)\n",
            "I0728 21:58:24.473943 140239895005056 basic_session_run_hooks.py:260] loss = 13.633758, step = 1601 (0.337 sec)\n",
            "I0728 21:58:24.594978 140239895005056 basic_session_run_hooks.py:606] Saving checkpoints for 1629 into /tmp/census_model/model.ckpt.\n",
            "I0728 21:58:24.813960 140239895005056 estimator.py:368] Loss for final step: 0.027508263.\n",
            "I0728 21:58:24.841009 140239895005056 census_dataset.py:167] Parsing /tmp/census_data/adult.test\n",
            "I0728 21:58:24.882807 140239895005056 estimator.py:1145] Calling model_fn.\n",
            "W0728 21:58:26.053378 140239895005056 deprecation.py:323] From /usr/local/lib/python3.6/dist-packages/tensorflow/python/ops/metrics_impl.py:2027: div (from tensorflow.python.ops.math_ops) is deprecated and will be removed in a future version.\n",
            "Instructions for updating:\n",
            "Deprecated in favor of operator or tf.math.divide.\n",
            "W0728 21:58:26.487521 140239895005056 metrics_impl.py:804] Trapezoidal rule is known to produce incorrect PR-AUCs; please switch to \"careful_interpolation\" instead.\n",
            "W0728 21:58:26.510345 140239895005056 metrics_impl.py:804] Trapezoidal rule is known to produce incorrect PR-AUCs; please switch to \"careful_interpolation\" instead.\n",
            "I0728 21:58:26.533712 140239895005056 estimator.py:1147] Done calling model_fn.\n",
            "I0728 21:58:26.556652 140239895005056 evaluation.py:255] Starting evaluation at 2019-07-28T21:58:26Z\n",
            "I0728 21:58:26.704819 140239895005056 monitored_session.py:240] Graph was finalized.\n",
            "W0728 21:58:26.705453 140239895005056 deprecation.py:323] From /usr/local/lib/python3.6/dist-packages/tensorflow/python/training/saver.py:1276: checkpoint_exists (from tensorflow.python.training.checkpoint_management) is deprecated and will be removed in a future version.\n",
            "Instructions for updating:\n",
            "Use standard file APIs to check for files with this prefix.\n",
            "I0728 21:58:26.706624 140239895005056 saver.py:1280] Restoring parameters from /tmp/census_model/model.ckpt-1629\n",
            "I0728 21:58:26.859699 140239895005056 session_manager.py:500] Running local_init_op.\n",
            "I0728 21:58:26.923539 140239895005056 session_manager.py:502] Done running local_init_op.\n",
            "I0728 21:58:28.982483 140239895005056 evaluation.py:275] Finished evaluation at 2019-07-28-21:58:28\n",
            "I0728 21:58:28.982811 140239895005056 estimator.py:2039] Saving dict for global step 1629: accuracy = 0.8372336, accuracy_baseline = 0.76377374, auc = 0.8842413, auc_precision_recall = 0.69540155, average_loss = 0.3505718, global_step = 1629, label/mean = 0.23622628, loss = 13.989362, precision = 0.68900126, prediction/mean = 0.23846336, recall = 0.56682265\n",
            "I0728 21:58:29.357002 140239895005056 estimator.py:2099] Saving 'checkpoint_path' summary for global step 1629: /tmp/census_model/model.ckpt-1629\n",
            "I0728 21:58:29.357845 140239895005056 wide_deep_run_loop.py:116] Results at epoch 2 / 2\n",
            "I0728 21:58:29.358000 140239895005056 wide_deep_run_loop.py:117] ------------------------------------------------------------\n",
            "I0728 21:58:29.358114 140239895005056 wide_deep_run_loop.py:120] accuracy: 0.8372336\n",
            "I0728 21:58:29.358189 140239895005056 wide_deep_run_loop.py:120] accuracy_baseline: 0.76377374\n",
            "I0728 21:58:29.358260 140239895005056 wide_deep_run_loop.py:120] auc: 0.8842413\n",
            "I0728 21:58:29.358333 140239895005056 wide_deep_run_loop.py:120] auc_precision_recall: 0.69540155\n",
            "I0728 21:58:29.358403 140239895005056 wide_deep_run_loop.py:120] average_loss: 0.3505718\n",
            "I0728 21:58:29.358481 140239895005056 wide_deep_run_loop.py:120] global_step: 1629\n",
            "I0728 21:58:29.358548 140239895005056 wide_deep_run_loop.py:120] label/mean: 0.23622628\n",
            "I0728 21:58:29.358613 140239895005056 wide_deep_run_loop.py:120] loss: 13.989362\n",
            "I0728 21:58:29.358677 140239895005056 wide_deep_run_loop.py:120] precision: 0.68900126\n",
            "I0728 21:58:29.358742 140239895005056 wide_deep_run_loop.py:120] prediction/mean: 0.23846336\n",
            "I0728 21:58:29.358806 140239895005056 wide_deep_run_loop.py:120] recall: 0.56682265\n",
            "I0728 21:58:29.359004 140239895005056 logger.py:147] Benchmark metric: {'name': 'accuracy', 'value': 0.8372336030006409, 'unit': None, 'global_step': 1629, 'timestamp': '2019-07-28T21:58:29.358955Z', 'extras': []}\n",
            "I0728 21:58:29.359162 140239895005056 logger.py:147] Benchmark metric: {'name': 'accuracy_baseline', 'value': 0.7637737393379211, 'unit': None, 'global_step': 1629, 'timestamp': '2019-07-28T21:58:29.359136Z', 'extras': []}\n",
            "I0728 21:58:29.359274 140239895005056 logger.py:147] Benchmark metric: {'name': 'auc', 'value': 0.8842412829399109, 'unit': None, 'global_step': 1629, 'timestamp': '2019-07-28T21:58:29.359250Z', 'extras': []}\n",
            "I0728 21:58:29.359377 140239895005056 logger.py:147] Benchmark metric: {'name': 'auc_precision_recall', 'value': 0.6954015493392944, 'unit': None, 'global_step': 1629, 'timestamp': '2019-07-28T21:58:29.359353Z', 'extras': []}\n",
            "I0728 21:58:29.359481 140239895005056 logger.py:147] Benchmark metric: {'name': 'average_loss', 'value': 0.35057181119918823, 'unit': None, 'global_step': 1629, 'timestamp': '2019-07-28T21:58:29.359457Z', 'extras': []}\n",
            "I0728 21:58:29.359591 140239895005056 logger.py:147] Benchmark metric: {'name': 'label/mean', 'value': 0.23622627556324005, 'unit': None, 'global_step': 1629, 'timestamp': '2019-07-28T21:58:29.359568Z', 'extras': []}\n",
            "I0728 21:58:29.359700 140239895005056 logger.py:147] Benchmark metric: {'name': 'loss', 'value': 13.989361763000488, 'unit': None, 'global_step': 1629, 'timestamp': '2019-07-28T21:58:29.359677Z', 'extras': []}\n",
            "I0728 21:58:29.359806 140239895005056 logger.py:147] Benchmark metric: {'name': 'precision', 'value': 0.6890012621879578, 'unit': None, 'global_step': 1629, 'timestamp': '2019-07-28T21:58:29.359783Z', 'extras': []}\n",
            "I0728 21:58:29.359905 140239895005056 logger.py:147] Benchmark metric: {'name': 'prediction/mean', 'value': 0.23846335709095, 'unit': None, 'global_step': 1629, 'timestamp': '2019-07-28T21:58:29.359883Z', 'extras': []}\n",
            "I0728 21:58:29.360047 140239895005056 logger.py:147] Benchmark metric: {'name': 'recall', 'value': 0.5668226480484009, 'unit': None, 'global_step': 1629, 'timestamp': '2019-07-28T21:58:29.359992Z', 'extras': []}\n"
          ],
          "name": "stdout"
        }
      ]
    },
    {
      "cell_type": "code",
      "metadata": {
        "id": "A22PK2TOl-Cv",
        "colab_type": "code",
        "colab": {
          "base_uri": "https://localhost:8080/",
          "height": 34
        },
        "outputId": "b0b1ed02-31f0-4731-9664-91a519911f29"
      },
      "source": [
        "!ls  /tmp/census_data/"
      ],
      "execution_count": 14,
      "outputs": [
        {
          "output_type": "stream",
          "text": [
            "adult.data  adult.test\n"
          ],
          "name": "stdout"
        }
      ]
    },
    {
      "cell_type": "code",
      "metadata": {
        "id": "GDYGmfmHmBdL",
        "colab_type": "code",
        "colab": {}
      },
      "source": [
        "train_file = \"/tmp/census_data/adult.data\"\n",
        "test_file = \"/tmp/census_data/adult.test\""
      ],
      "execution_count": 0,
      "outputs": []
    },
    {
      "cell_type": "code",
      "metadata": {
        "id": "RRp_w4HSmEkz",
        "colab_type": "code",
        "colab": {
          "base_uri": "https://localhost:8080/",
          "height": 292
        },
        "outputId": "ddab2ecf-da03-4059-a3cb-160fb58c9125"
      },
      "source": [
        "import pandas\n",
        "\n",
        "train_df = pandas.read_csv(train_file, header = None, names = census_dataset._CSV_COLUMNS)\n",
        "test_df = pandas.read_csv(test_file, header = None, names = census_dataset._CSV_COLUMNS)\n",
        "\n",
        "train_df.head()"
      ],
      "execution_count": 16,
      "outputs": [
        {
          "output_type": "execute_result",
          "data": {
            "text/html": [
              "<div>\n",
              "<style scoped>\n",
              "    .dataframe tbody tr th:only-of-type {\n",
              "        vertical-align: middle;\n",
              "    }\n",
              "\n",
              "    .dataframe tbody tr th {\n",
              "        vertical-align: top;\n",
              "    }\n",
              "\n",
              "    .dataframe thead th {\n",
              "        text-align: right;\n",
              "    }\n",
              "</style>\n",
              "<table border=\"1\" class=\"dataframe\">\n",
              "  <thead>\n",
              "    <tr style=\"text-align: right;\">\n",
              "      <th></th>\n",
              "      <th>age</th>\n",
              "      <th>workclass</th>\n",
              "      <th>fnlwgt</th>\n",
              "      <th>education</th>\n",
              "      <th>education_num</th>\n",
              "      <th>marital_status</th>\n",
              "      <th>occupation</th>\n",
              "      <th>relationship</th>\n",
              "      <th>race</th>\n",
              "      <th>gender</th>\n",
              "      <th>capital_gain</th>\n",
              "      <th>capital_loss</th>\n",
              "      <th>hours_per_week</th>\n",
              "      <th>native_country</th>\n",
              "      <th>income_bracket</th>\n",
              "    </tr>\n",
              "  </thead>\n",
              "  <tbody>\n",
              "    <tr>\n",
              "      <th>0</th>\n",
              "      <td>39</td>\n",
              "      <td>State-gov</td>\n",
              "      <td>77516</td>\n",
              "      <td>Bachelors</td>\n",
              "      <td>13</td>\n",
              "      <td>Never-married</td>\n",
              "      <td>Adm-clerical</td>\n",
              "      <td>Not-in-family</td>\n",
              "      <td>White</td>\n",
              "      <td>Male</td>\n",
              "      <td>2174</td>\n",
              "      <td>0</td>\n",
              "      <td>40</td>\n",
              "      <td>United-States</td>\n",
              "      <td>&lt;=50K</td>\n",
              "    </tr>\n",
              "    <tr>\n",
              "      <th>1</th>\n",
              "      <td>50</td>\n",
              "      <td>Self-emp-not-inc</td>\n",
              "      <td>83311</td>\n",
              "      <td>Bachelors</td>\n",
              "      <td>13</td>\n",
              "      <td>Married-civ-spouse</td>\n",
              "      <td>Exec-managerial</td>\n",
              "      <td>Husband</td>\n",
              "      <td>White</td>\n",
              "      <td>Male</td>\n",
              "      <td>0</td>\n",
              "      <td>0</td>\n",
              "      <td>13</td>\n",
              "      <td>United-States</td>\n",
              "      <td>&lt;=50K</td>\n",
              "    </tr>\n",
              "    <tr>\n",
              "      <th>2</th>\n",
              "      <td>38</td>\n",
              "      <td>Private</td>\n",
              "      <td>215646</td>\n",
              "      <td>HS-grad</td>\n",
              "      <td>9</td>\n",
              "      <td>Divorced</td>\n",
              "      <td>Handlers-cleaners</td>\n",
              "      <td>Not-in-family</td>\n",
              "      <td>White</td>\n",
              "      <td>Male</td>\n",
              "      <td>0</td>\n",
              "      <td>0</td>\n",
              "      <td>40</td>\n",
              "      <td>United-States</td>\n",
              "      <td>&lt;=50K</td>\n",
              "    </tr>\n",
              "    <tr>\n",
              "      <th>3</th>\n",
              "      <td>53</td>\n",
              "      <td>Private</td>\n",
              "      <td>234721</td>\n",
              "      <td>11th</td>\n",
              "      <td>7</td>\n",
              "      <td>Married-civ-spouse</td>\n",
              "      <td>Handlers-cleaners</td>\n",
              "      <td>Husband</td>\n",
              "      <td>Black</td>\n",
              "      <td>Male</td>\n",
              "      <td>0</td>\n",
              "      <td>0</td>\n",
              "      <td>40</td>\n",
              "      <td>United-States</td>\n",
              "      <td>&lt;=50K</td>\n",
              "    </tr>\n",
              "    <tr>\n",
              "      <th>4</th>\n",
              "      <td>28</td>\n",
              "      <td>Private</td>\n",
              "      <td>338409</td>\n",
              "      <td>Bachelors</td>\n",
              "      <td>13</td>\n",
              "      <td>Married-civ-spouse</td>\n",
              "      <td>Prof-specialty</td>\n",
              "      <td>Wife</td>\n",
              "      <td>Black</td>\n",
              "      <td>Female</td>\n",
              "      <td>0</td>\n",
              "      <td>0</td>\n",
              "      <td>40</td>\n",
              "      <td>Cuba</td>\n",
              "      <td>&lt;=50K</td>\n",
              "    </tr>\n",
              "  </tbody>\n",
              "</table>\n",
              "</div>"
            ],
            "text/plain": [
              "   age         workclass  fnlwgt  ... hours_per_week  native_country income_bracket\n",
              "0   39         State-gov   77516  ...             40   United-States          <=50K\n",
              "1   50  Self-emp-not-inc   83311  ...             13   United-States          <=50K\n",
              "2   38           Private  215646  ...             40   United-States          <=50K\n",
              "3   53           Private  234721  ...             40   United-States          <=50K\n",
              "4   28           Private  338409  ...             40            Cuba          <=50K\n",
              "\n",
              "[5 rows x 15 columns]"
            ]
          },
          "metadata": {
            "tags": []
          },
          "execution_count": 16
        }
      ]
    },
    {
      "cell_type": "code",
      "metadata": {
        "id": "XLuMq9yamZQy",
        "colab_type": "code",
        "colab": {}
      },
      "source": [
        "def easy_input_function(df, label_key, num_epochs, shuffle, batch_size):\n",
        "  label = df[label_key]\n",
        "  ds = tf.data.Dataset.from_tensor_slices((dict(df),label))\n",
        "\n",
        "  if shuffle:\n",
        "    ds = ds.shuffle(10000)\n",
        "\n",
        "  ds = ds.batch(batch_size).repeat(num_epochs)\n",
        "\n",
        "  return ds"
      ],
      "execution_count": 0,
      "outputs": []
    },
    {
      "cell_type": "code",
      "metadata": {
        "id": "A1w6-szFmcn1",
        "colab_type": "code",
        "colab": {
          "base_uri": "https://localhost:8080/",
          "height": 156
        },
        "outputId": "2b212329-9e79-45f1-b83a-41c1f885ac19"
      },
      "source": [
        "ds = easy_input_function(train_df, label_key='income_bracket', num_epochs=5, shuffle=True, batch_size=10)\n",
        "\n",
        "for feature_batch, label_batch in ds.take(1):\n",
        "  print('Some feature keys:', list(feature_batch.keys())[:5])\n",
        "  print()\n",
        "  print('A batch of Ages  :', feature_batch['age'])\n",
        "  print()\n",
        "  print('A batch of Labels:', label_batch )"
      ],
      "execution_count": 18,
      "outputs": [
        {
          "output_type": "stream",
          "text": [
            "Some feature keys: ['age', 'workclass', 'fnlwgt', 'education', 'education_num']\n",
            "\n",
            "A batch of Ages  : tf.Tensor([66 18 57 44 33 43 26 68 44 37], shape=(10,), dtype=int32)\n",
            "\n",
            "A batch of Labels: tf.Tensor(\n",
            "[b'>50K' b'<=50K' b'<=50K' b'<=50K' b'>50K' b'<=50K' b'<=50K' b'>50K'\n",
            " b'<=50K' b'>50K'], shape=(10,), dtype=string)\n"
          ],
          "name": "stdout"
        }
      ]
    },
    {
      "cell_type": "code",
      "metadata": {
        "id": "Wg8ACY-jmhOP",
        "colab_type": "code",
        "colab": {
          "base_uri": "https://localhost:8080/",
          "height": 493
        },
        "outputId": "1474aabe-f447-4693-c20b-309f75932eab"
      },
      "source": [
        "import inspect\n",
        "print(inspect.getsource(census_dataset.input_fn))"
      ],
      "execution_count": 19,
      "outputs": [
        {
          "output_type": "stream",
          "text": [
            "def input_fn(data_file, num_epochs, shuffle, batch_size):\n",
            "  \"\"\"Generate an input function for the Estimator.\"\"\"\n",
            "  assert tf.gfile.Exists(data_file), (\n",
            "      '%s not found. Please make sure you have run census_dataset.py and '\n",
            "      'set the --data_dir argument to the correct path.' % data_file)\n",
            "\n",
            "  def parse_csv(value):\n",
            "    tf.logging.info('Parsing {}'.format(data_file))\n",
            "    columns = tf.decode_csv(value, record_defaults=_CSV_COLUMN_DEFAULTS)\n",
            "    features = dict(zip(_CSV_COLUMNS, columns))\n",
            "    labels = features.pop('income_bracket')\n",
            "    classes = tf.equal(labels, '>50K')  # binary classification\n",
            "    return features, classes\n",
            "\n",
            "  # Extract lines from input files using the Dataset API.\n",
            "  dataset = tf.data.TextLineDataset(data_file)\n",
            "\n",
            "  if shuffle:\n",
            "    dataset = dataset.shuffle(buffer_size=_NUM_EXAMPLES['train'])\n",
            "\n",
            "  dataset = dataset.map(parse_csv, num_parallel_calls=5)\n",
            "\n",
            "  # We call repeat after shuffling, rather than before, to prevent separate\n",
            "  # epochs from blending together.\n",
            "  dataset = dataset.repeat(num_epochs)\n",
            "  dataset = dataset.batch(batch_size)\n",
            "  return dataset\n",
            "\n"
          ],
          "name": "stdout"
        }
      ]
    },
    {
      "cell_type": "code",
      "metadata": {
        "id": "5AgBmyw8mk3m",
        "colab_type": "code",
        "colab": {
          "base_uri": "https://localhost:8080/",
          "height": 190
        },
        "outputId": "c7254562-949b-40a7-808f-bc2c86b406c6"
      },
      "source": [
        "ds = census_dataset.input_fn(train_file, num_epochs=5, shuffle=True, batch_size=10)\n",
        "\n",
        "for feature_batch, label_batch in ds.take(1):\n",
        "  print('Feature keys:', list(feature_batch.keys())[:5])\n",
        "  print()\n",
        "  print('Age batch   :', feature_batch['age'])\n",
        "  print()\n",
        "  print('Label batch :', label_batch )"
      ],
      "execution_count": 20,
      "outputs": [
        {
          "output_type": "stream",
          "text": [
            "W0728 22:01:29.523567 139660764972928 deprecation_wrapper.py:119] From /content/models/official/wide_deep/census_dataset.py:167: The name tf.logging.info is deprecated. Please use tf.compat.v1.logging.info instead.\n",
            "\n",
            "W0728 22:01:29.525223 139660764972928 deprecation_wrapper.py:119] From /content/models/official/wide_deep/census_dataset.py:168: The name tf.decode_csv is deprecated. Please use tf.io.decode_csv instead.\n",
            "\n"
          ],
          "name": "stderr"
        },
        {
          "output_type": "stream",
          "text": [
            "Feature keys: ['age', 'workclass', 'fnlwgt', 'education', 'education_num']\n",
            "\n",
            "Age batch   : tf.Tensor([44 35 47 23 34 23 38 23 19 61], shape=(10,), dtype=int32)\n",
            "\n",
            "Label batch : tf.Tensor([False False False False False False False False False False], shape=(10,), dtype=bool)\n"
          ],
          "name": "stdout"
        }
      ]
    },
    {
      "cell_type": "code",
      "metadata": {
        "id": "5to3dLD3mszv",
        "colab_type": "code",
        "colab": {}
      },
      "source": [
        "import functools\n",
        "\n",
        "train_inpf = functools.partial(census_dataset.input_fn, train_file, num_epochs=2, shuffle=True, batch_size=64)\n",
        "test_inpf = functools.partial(census_dataset.input_fn, test_file, num_epochs=1, shuffle=False, batch_size=64)"
      ],
      "execution_count": 0,
      "outputs": []
    },
    {
      "cell_type": "code",
      "metadata": {
        "id": "NBApW-nImvvf",
        "colab_type": "code",
        "colab": {}
      },
      "source": [
        "age = fc.numeric_column('age')"
      ],
      "execution_count": 0,
      "outputs": []
    },
    {
      "cell_type": "code",
      "metadata": {
        "id": "Y-1rfONXmybp",
        "colab_type": "code",
        "colab": {
          "base_uri": "https://localhost:8080/",
          "height": 360
        },
        "outputId": "903997ec-c52f-471f-f930-f012fdefe776"
      },
      "source": [
        "fc.input_layer(feature_batch, [age]).numpy()"
      ],
      "execution_count": 24,
      "outputs": [
        {
          "output_type": "stream",
          "text": [
            "W0728 22:02:28.578174 139660764972928 deprecation.py:323] From /usr/local/lib/python3.6/dist-packages/tensorflow/python/feature_column/feature_column.py:205: NumericColumn._get_dense_tensor (from tensorflow.python.feature_column.feature_column_v2) is deprecated and will be removed in a future version.\n",
            "Instructions for updating:\n",
            "The old _FeatureColumn APIs are being deprecated. Please use the new FeatureColumn APIs instead.\n",
            "W0728 22:02:28.580301 139660764972928 deprecation.py:323] From /usr/local/lib/python3.6/dist-packages/tensorflow/python/feature_column/feature_column.py:2115: NumericColumn._transform_feature (from tensorflow.python.feature_column.feature_column_v2) is deprecated and will be removed in a future version.\n",
            "Instructions for updating:\n",
            "The old _FeatureColumn APIs are being deprecated. Please use the new FeatureColumn APIs instead.\n",
            "W0728 22:02:28.582317 139660764972928 deprecation.py:323] From /usr/local/lib/python3.6/dist-packages/tensorflow/python/feature_column/feature_column.py:206: NumericColumn._variable_shape (from tensorflow.python.feature_column.feature_column_v2) is deprecated and will be removed in a future version.\n",
            "Instructions for updating:\n",
            "The old _FeatureColumn APIs are being deprecated. Please use the new FeatureColumn APIs instead.\n"
          ],
          "name": "stderr"
        },
        {
          "output_type": "execute_result",
          "data": {
            "text/plain": [
              "array([[44.],\n",
              "       [35.],\n",
              "       [47.],\n",
              "       [23.],\n",
              "       [34.],\n",
              "       [23.],\n",
              "       [38.],\n",
              "       [23.],\n",
              "       [19.],\n",
              "       [61.]], dtype=float32)"
            ]
          },
          "metadata": {
            "tags": []
          },
          "execution_count": 24
        }
      ]
    },
    {
      "cell_type": "code",
      "metadata": {
        "id": "KXP2jv4rm027",
        "colab_type": "code",
        "colab": {
          "base_uri": "https://localhost:8080/",
          "height": 54
        },
        "outputId": "5fe375af-a0c1-4ded-cb36-a26a4448ca64"
      },
      "source": [
        "classifier = tf.estimator.LinearClassifier(feature_columns=[age])\n",
        "classifier.train(train_inpf)\n",
        "result = classifier.evaluate(test_inpf)\n",
        "\n",
        "clear_output()  # used for display in notebook\n",
        "print(result)"
      ],
      "execution_count": 25,
      "outputs": [
        {
          "output_type": "stream",
          "text": [
            "{'accuracy': 0.76334375, 'accuracy_baseline': 0.76377374, 'auc': 0.67818236, 'auc_precision_recall': 0.31133777, 'average_loss': 0.5249432, 'label/mean': 0.23622628, 'loss': 33.516075, 'precision': 0.31578946, 'prediction/mean': 0.21833685, 'recall': 0.0015600624, 'global_step': 1018}\n"
          ],
          "name": "stdout"
        }
      ]
    },
    {
      "cell_type": "code",
      "metadata": {
        "id": "WGiXDC5hm3Vp",
        "colab_type": "code",
        "colab": {
          "base_uri": "https://localhost:8080/",
          "height": 187
        },
        "outputId": "b79c5fee-9dd3-4c71-84c4-5898f662bd7a"
      },
      "source": [
        "education_num = tf.feature_column.numeric_column('education_num')\n",
        "capital_gain = tf.feature_column.numeric_column('capital_gain')\n",
        "capital_loss = tf.feature_column.numeric_column('capital_loss')\n",
        "hours_per_week = tf.feature_column.numeric_column('hours_per_week')\n",
        "\n",
        "my_numeric_columns = [age,education_num, capital_gain, capital_loss, hours_per_week]\n",
        "\n",
        "fc.input_layer(feature_batch, my_numeric_columns).numpy()"
      ],
      "execution_count": 26,
      "outputs": [
        {
          "output_type": "execute_result",
          "data": {
            "text/plain": [
              "array([[44.,  0.,  0.,  9., 37.],\n",
              "       [35.,  0.,  0., 12., 50.],\n",
              "       [47.,  0.,  0.,  9., 37.],\n",
              "       [23.,  0.,  0., 10., 25.],\n",
              "       [34.,  0.,  0.,  9., 40.],\n",
              "       [23.,  0.,  0.,  9., 25.],\n",
              "       [38.,  0.,  0.,  9., 48.],\n",
              "       [23.,  0.,  0.,  9., 35.],\n",
              "       [19.,  0.,  0., 10., 20.],\n",
              "       [61.,  0.,  0.,  4., 40.]], dtype=float32)"
            ]
          },
          "metadata": {
            "tags": []
          },
          "execution_count": 26
        }
      ]
    },
    {
      "cell_type": "code",
      "metadata": {
        "id": "PEf1bLFHm7Qu",
        "colab_type": "code",
        "colab": {
          "base_uri": "https://localhost:8080/",
          "height": 204
        },
        "outputId": "7f189105-bdc7-4077-ba50-46b977a734d6"
      },
      "source": [
        "classifier = tf.estimator.LinearClassifier(feature_columns=my_numeric_columns)\n",
        "classifier.train(train_inpf)\n",
        "\n",
        "result = classifier.evaluate(test_inpf)\n",
        "\n",
        "clear_output()\n",
        "\n",
        "for key,value in sorted(result.items()):\n",
        "  print('%s: %s' % (key, value))"
      ],
      "execution_count": 27,
      "outputs": [
        {
          "output_type": "stream",
          "text": [
            "accuracy: 0.76377374\n",
            "accuracy_baseline: 0.76377374\n",
            "auc: 0.49290448\n",
            "auc_precision_recall: 0.28927487\n",
            "average_loss: 0.68115866\n",
            "global_step: 1018\n",
            "label/mean: 0.23622628\n",
            "loss: 43.48998\n",
            "precision: 0.0\n",
            "prediction/mean: 0.14744724\n",
            "recall: 0.0\n"
          ],
          "name": "stdout"
        }
      ]
    },
    {
      "cell_type": "code",
      "metadata": {
        "id": "qD7cKJhKm9jB",
        "colab_type": "code",
        "colab": {}
      },
      "source": [
        "relationship = fc.categorical_column_with_vocabulary_list(\n",
        "    'relationship',\n",
        "    ['Husband', 'Not-in-family', 'Wife', 'Own-child', 'Unmarried', 'Other-relative'])"
      ],
      "execution_count": 0,
      "outputs": []
    },
    {
      "cell_type": "code",
      "metadata": {
        "id": "RQmpFDLInFtU",
        "colab_type": "code",
        "colab": {
          "base_uri": "https://localhost:8080/",
          "height": 530
        },
        "outputId": "f12df0e7-d267-4e44-c9b9-5d5cfdbe5663"
      },
      "source": [
        "fc.input_layer(feature_batch, [age, fc.indicator_column(relationship)])"
      ],
      "execution_count": 30,
      "outputs": [
        {
          "output_type": "stream",
          "text": [
            "W0728 22:03:44.517793 139660764972928 deprecation.py:323] From /usr/local/lib/python3.6/dist-packages/tensorflow/python/feature_column/feature_column.py:205: IndicatorColumn._get_dense_tensor (from tensorflow.python.feature_column.feature_column_v2) is deprecated and will be removed in a future version.\n",
            "Instructions for updating:\n",
            "The old _FeatureColumn APIs are being deprecated. Please use the new FeatureColumn APIs instead.\n",
            "W0728 22:03:44.521424 139660764972928 deprecation.py:323] From /usr/local/lib/python3.6/dist-packages/tensorflow/python/feature_column/feature_column.py:2115: IndicatorColumn._transform_feature (from tensorflow.python.feature_column.feature_column_v2) is deprecated and will be removed in a future version.\n",
            "Instructions for updating:\n",
            "The old _FeatureColumn APIs are being deprecated. Please use the new FeatureColumn APIs instead.\n",
            "W0728 22:03:44.523721 139660764972928 deprecation.py:323] From /usr/local/lib/python3.6/dist-packages/tensorflow/python/feature_column/feature_column_v2.py:4236: VocabularyListCategoricalColumn._get_sparse_tensors (from tensorflow.python.feature_column.feature_column_v2) is deprecated and will be removed in a future version.\n",
            "Instructions for updating:\n",
            "The old _FeatureColumn APIs are being deprecated. Please use the new FeatureColumn APIs instead.\n",
            "W0728 22:03:44.527909 139660764972928 deprecation.py:323] From /usr/local/lib/python3.6/dist-packages/tensorflow/python/feature_column/feature_column.py:2115: VocabularyListCategoricalColumn._transform_feature (from tensorflow.python.feature_column.feature_column_v2) is deprecated and will be removed in a future version.\n",
            "Instructions for updating:\n",
            "The old _FeatureColumn APIs are being deprecated. Please use the new FeatureColumn APIs instead.\n",
            "W0728 22:03:44.538534 139660764972928 deprecation.py:323] From /usr/local/lib/python3.6/dist-packages/tensorflow/python/feature_column/feature_column_v2.py:4207: IndicatorColumn._variable_shape (from tensorflow.python.feature_column.feature_column_v2) is deprecated and will be removed in a future version.\n",
            "Instructions for updating:\n",
            "The old _FeatureColumn APIs are being deprecated. Please use the new FeatureColumn APIs instead.\n",
            "W0728 22:03:44.540186 139660764972928 deprecation.py:323] From /usr/local/lib/python3.6/dist-packages/tensorflow/python/feature_column/feature_column_v2.py:4262: VocabularyListCategoricalColumn._num_buckets (from tensorflow.python.feature_column.feature_column_v2) is deprecated and will be removed in a future version.\n",
            "Instructions for updating:\n",
            "The old _FeatureColumn APIs are being deprecated. Please use the new FeatureColumn APIs instead.\n"
          ],
          "name": "stderr"
        },
        {
          "output_type": "execute_result",
          "data": {
            "text/plain": [
              "<tf.Tensor: id=5099, shape=(10, 7), dtype=float32, numpy=\n",
              "array([[44.,  0.,  1.,  0.,  0.,  0.,  0.],\n",
              "       [35.,  0.,  0.,  0.,  0.,  1.,  0.],\n",
              "       [47.,  0.,  0.,  0.,  0.,  1.,  0.],\n",
              "       [23.,  0.,  0.,  0.,  1.,  0.,  0.],\n",
              "       [34.,  0.,  1.,  0.,  0.,  0.,  0.],\n",
              "       [23.,  0.,  0.,  0.,  1.,  0.,  0.],\n",
              "       [38.,  1.,  0.,  0.,  0.,  0.,  0.],\n",
              "       [23.,  0.,  0.,  0.,  0.,  1.,  0.],\n",
              "       [19.,  0.,  0.,  0.,  1.,  0.,  0.],\n",
              "       [61.,  0.,  0.,  0.,  0.,  1.,  0.]], dtype=float32)>"
            ]
          },
          "metadata": {
            "tags": []
          },
          "execution_count": 30
        }
      ]
    },
    {
      "cell_type": "code",
      "metadata": {
        "id": "SgvVuvOenHVO",
        "colab_type": "code",
        "colab": {}
      },
      "source": [
        "occupation = tf.feature_column.categorical_column_with_hash_bucket(\n",
        "    'occupation', hash_bucket_size=1000)"
      ],
      "execution_count": 0,
      "outputs": []
    },
    {
      "cell_type": "code",
      "metadata": {
        "id": "nl87O7ohnKHq",
        "colab_type": "code",
        "colab": {
          "base_uri": "https://localhost:8080/",
          "height": 187
        },
        "outputId": "cfae2703-b04b-424b-9e75-98e69989d26b"
      },
      "source": [
        "for item in feature_batch['occupation'].numpy():\n",
        "    print(item.decode())"
      ],
      "execution_count": 32,
      "outputs": [
        {
          "output_type": "stream",
          "text": [
            "Other-service\n",
            "Other-service\n",
            "Exec-managerial\n",
            "Machine-op-inspct\n",
            "Adm-clerical\n",
            "Handlers-cleaners\n",
            "Machine-op-inspct\n",
            "Other-service\n",
            "Craft-repair\n",
            "Other-service\n"
          ],
          "name": "stdout"
        }
      ]
    },
    {
      "cell_type": "code",
      "metadata": {
        "id": "TFNx16WGnMHX",
        "colab_type": "code",
        "colab": {
          "base_uri": "https://localhost:8080/",
          "height": 207
        },
        "outputId": "48507ea4-2ef7-4b81-ca3b-7dfe05c198c4"
      },
      "source": [
        "occupation_result = fc.input_layer(feature_batch, [fc.indicator_column(occupation)])\n",
        "\n",
        "occupation_result.numpy().shape"
      ],
      "execution_count": 33,
      "outputs": [
        {
          "output_type": "stream",
          "text": [
            "W0728 22:04:14.995528 139660764972928 deprecation.py:323] From /usr/local/lib/python3.6/dist-packages/tensorflow/python/feature_column/feature_column_v2.py:4236: HashedCategoricalColumn._get_sparse_tensors (from tensorflow.python.feature_column.feature_column_v2) is deprecated and will be removed in a future version.\n",
            "Instructions for updating:\n",
            "The old _FeatureColumn APIs are being deprecated. Please use the new FeatureColumn APIs instead.\n",
            "W0728 22:04:14.998199 139660764972928 deprecation.py:323] From /usr/local/lib/python3.6/dist-packages/tensorflow/python/feature_column/feature_column.py:2115: HashedCategoricalColumn._transform_feature (from tensorflow.python.feature_column.feature_column_v2) is deprecated and will be removed in a future version.\n",
            "Instructions for updating:\n",
            "The old _FeatureColumn APIs are being deprecated. Please use the new FeatureColumn APIs instead.\n",
            "W0728 22:04:15.000690 139660764972928 deprecation.py:323] From /usr/local/lib/python3.6/dist-packages/tensorflow/python/feature_column/feature_column_v2.py:4262: HashedCategoricalColumn._num_buckets (from tensorflow.python.feature_column.feature_column_v2) is deprecated and will be removed in a future version.\n",
            "Instructions for updating:\n",
            "The old _FeatureColumn APIs are being deprecated. Please use the new FeatureColumn APIs instead.\n"
          ],
          "name": "stderr"
        },
        {
          "output_type": "execute_result",
          "data": {
            "text/plain": [
              "(10, 1000)"
            ]
          },
          "metadata": {
            "tags": []
          },
          "execution_count": 33
        }
      ]
    },
    {
      "cell_type": "code",
      "metadata": {
        "id": "RHPz7kCInOog",
        "colab_type": "code",
        "colab": {
          "base_uri": "https://localhost:8080/",
          "height": 34
        },
        "outputId": "2b7ca3d4-c931-46dd-9752-1eda426092ca"
      },
      "source": [
        "tf.argmax(occupation_result, axis=1).numpy()"
      ],
      "execution_count": 34,
      "outputs": [
        {
          "output_type": "execute_result",
          "data": {
            "text/plain": [
              "array([527, 527, 800, 911,  96,  10, 911, 527, 466, 527])"
            ]
          },
          "metadata": {
            "tags": []
          },
          "execution_count": 34
        }
      ]
    },
    {
      "cell_type": "code",
      "metadata": {
        "id": "3c7nzl60nQsC",
        "colab_type": "code",
        "colab": {}
      },
      "source": [
        "education = tf.feature_column.categorical_column_with_vocabulary_list(\n",
        "    'education', [\n",
        "        'Bachelors', 'HS-grad', '11th', 'Masters', '9th', 'Some-college',\n",
        "        'Assoc-acdm', 'Assoc-voc', '7th-8th', 'Doctorate', 'Prof-school',\n",
        "        '5th-6th', '10th', '1st-4th', 'Preschool', '12th'])\n",
        "\n",
        "marital_status = tf.feature_column.categorical_column_with_vocabulary_list(\n",
        "    'marital_status', [\n",
        "        'Married-civ-spouse', 'Divorced', 'Married-spouse-absent',\n",
        "        'Never-married', 'Separated', 'Married-AF-spouse', 'Widowed'])\n",
        "\n",
        "workclass = tf.feature_column.categorical_column_with_vocabulary_list(\n",
        "    'workclass', [\n",
        "        'Self-emp-not-inc', 'Private', 'State-gov', 'Federal-gov',\n",
        "        'Local-gov', '?', 'Self-emp-inc', 'Without-pay', 'Never-worked'])\n",
        "\n",
        "\n",
        "my_categorical_columns = [relationship, occupation, education, marital_status, workclass]"
      ],
      "execution_count": 0,
      "outputs": []
    },
    {
      "cell_type": "code",
      "metadata": {
        "id": "S4DmAmv6nTY5",
        "colab_type": "code",
        "colab": {
          "base_uri": "https://localhost:8080/",
          "height": 204
        },
        "outputId": "6f2887eb-b078-4c00-dbe3-bd169249015b"
      },
      "source": [
        "classifier = tf.estimator.LinearClassifier(feature_columns=my_numeric_columns+my_categorical_columns)\n",
        "classifier.train(train_inpf)\n",
        "result = classifier.evaluate(test_inpf)\n",
        "\n",
        "clear_output()\n",
        "\n",
        "for key,value in sorted(result.items()):\n",
        "  print('%s: %s' % (key, value))"
      ],
      "execution_count": 36,
      "outputs": [
        {
          "output_type": "stream",
          "text": [
            "accuracy: 0.8240894\n",
            "accuracy_baseline: 0.76377374\n",
            "auc: 0.8670283\n",
            "auc_precision_recall: 0.652477\n",
            "average_loss: 0.5918715\n",
            "global_step: 1018\n",
            "label/mean: 0.23622628\n",
            "loss: 37.789253\n",
            "precision: 0.63156486\n",
            "prediction/mean: 0.2587861\n",
            "recall: 0.6128445\n"
          ],
          "name": "stdout"
        }
      ]
    },
    {
      "cell_type": "code",
      "metadata": {
        "id": "JEzi9fmTnWF-",
        "colab_type": "code",
        "colab": {}
      },
      "source": [
        "age_buckets = tf.feature_column.bucketized_column(\n",
        "    age, boundaries=[18, 25, 30, 35, 40, 45, 50, 55, 60, 65])"
      ],
      "execution_count": 0,
      "outputs": []
    },
    {
      "cell_type": "code",
      "metadata": {
        "id": "9nD9Vf_6nb4k",
        "colab_type": "code",
        "colab": {
          "base_uri": "https://localhost:8080/",
          "height": 377
        },
        "outputId": "a9c7e98f-19c2-41a6-fa04-723f0291c38b"
      },
      "source": [
        "fc.input_layer(feature_batch, [age, age_buckets]).numpy()"
      ],
      "execution_count": 38,
      "outputs": [
        {
          "output_type": "stream",
          "text": [
            "W0728 22:05:15.130406 139660764972928 deprecation.py:323] From /usr/local/lib/python3.6/dist-packages/tensorflow/python/feature_column/feature_column.py:205: BucketizedColumn._get_dense_tensor (from tensorflow.python.feature_column.feature_column_v2) is deprecated and will be removed in a future version.\n",
            "Instructions for updating:\n",
            "The old _FeatureColumn APIs are being deprecated. Please use the new FeatureColumn APIs instead.\n",
            "W0728 22:05:15.131662 139660764972928 deprecation.py:323] From /usr/local/lib/python3.6/dist-packages/tensorflow/python/feature_column/feature_column.py:2115: BucketizedColumn._transform_feature (from tensorflow.python.feature_column.feature_column_v2) is deprecated and will be removed in a future version.\n",
            "Instructions for updating:\n",
            "The old _FeatureColumn APIs are being deprecated. Please use the new FeatureColumn APIs instead.\n",
            "W0728 22:05:15.134578 139660764972928 deprecation.py:323] From /usr/local/lib/python3.6/dist-packages/tensorflow/python/feature_column/feature_column.py:206: BucketizedColumn._variable_shape (from tensorflow.python.feature_column.feature_column_v2) is deprecated and will be removed in a future version.\n",
            "Instructions for updating:\n",
            "The old _FeatureColumn APIs are being deprecated. Please use the new FeatureColumn APIs instead.\n"
          ],
          "name": "stderr"
        },
        {
          "output_type": "execute_result",
          "data": {
            "text/plain": [
              "array([[44.,  0.,  0.,  0.,  0.,  0.,  1.,  0.,  0.,  0.,  0.,  0.],\n",
              "       [35.,  0.,  0.,  0.,  0.,  1.,  0.,  0.,  0.,  0.,  0.,  0.],\n",
              "       [47.,  0.,  0.,  0.,  0.,  0.,  0.,  1.,  0.,  0.,  0.,  0.],\n",
              "       [23.,  0.,  1.,  0.,  0.,  0.,  0.,  0.,  0.,  0.,  0.,  0.],\n",
              "       [34.,  0.,  0.,  0.,  1.,  0.,  0.,  0.,  0.,  0.,  0.,  0.],\n",
              "       [23.,  0.,  1.,  0.,  0.,  0.,  0.,  0.,  0.,  0.,  0.,  0.],\n",
              "       [38.,  0.,  0.,  0.,  0.,  1.,  0.,  0.,  0.,  0.,  0.,  0.],\n",
              "       [23.,  0.,  1.,  0.,  0.,  0.,  0.,  0.,  0.,  0.,  0.,  0.],\n",
              "       [19.,  0.,  1.,  0.,  0.,  0.,  0.,  0.,  0.,  0.,  0.,  0.],\n",
              "       [61.,  0.,  0.,  0.,  0.,  0.,  0.,  0.,  0.,  0.,  1.,  0.]],\n",
              "      dtype=float32)"
            ]
          },
          "metadata": {
            "tags": []
          },
          "execution_count": 38
        }
      ]
    },
    {
      "cell_type": "code",
      "metadata": {
        "id": "ZpScKAzDnmKP",
        "colab_type": "code",
        "colab": {}
      },
      "source": [
        "education_x_occupation = tf.feature_column.crossed_column(\n",
        "    ['education', 'occupation'], hash_bucket_size=1000)"
      ],
      "execution_count": 0,
      "outputs": []
    },
    {
      "cell_type": "code",
      "metadata": {
        "id": "GePqxNF2nqcA",
        "colab_type": "code",
        "colab": {}
      },
      "source": [
        "age_buckets_x_education_x_occupation = tf.feature_column.crossed_column(\n",
        "    [age_buckets, 'education', 'occupation'], hash_bucket_size=1000)"
      ],
      "execution_count": 0,
      "outputs": []
    },
    {
      "cell_type": "code",
      "metadata": {
        "id": "fcWYoR3-ntUq",
        "colab_type": "code",
        "colab": {}
      },
      "source": [
        "import tempfile\n",
        "\n",
        "base_columns = [\n",
        "    education, marital_status, relationship, workclass, occupation,\n",
        "    age_buckets,\n",
        "]\n",
        "\n",
        "crossed_columns = [\n",
        "    tf.feature_column.crossed_column(\n",
        "        ['education', 'occupation'], hash_bucket_size=1000),\n",
        "    tf.feature_column.crossed_column(\n",
        "        [age_buckets, 'education', 'occupation'], hash_bucket_size=1000),\n",
        "]\n",
        "\n",
        "model = tf.estimator.LinearClassifier(\n",
        "    model_dir=tempfile.mkdtemp(),\n",
        "    feature_columns=base_columns + crossed_columns,\n",
        "    optimizer=tf.train.FtrlOptimizer(learning_rate=0.1))"
      ],
      "execution_count": 0,
      "outputs": []
    },
    {
      "cell_type": "code",
      "metadata": {
        "id": "3NlQfGRrnvuz",
        "colab_type": "code",
        "colab": {}
      },
      "source": [
        "train_inpf = functools.partial(census_dataset.input_fn, train_file,\n",
        "                               num_epochs=40, shuffle=True, batch_size=64)\n",
        "\n",
        "model.train(train_inpf)\n",
        "\n",
        "clear_output()  # used for notebook display"
      ],
      "execution_count": 0,
      "outputs": []
    },
    {
      "cell_type": "code",
      "metadata": {
        "id": "kJHs-C9pnzKS",
        "colab_type": "code",
        "colab": {
          "base_uri": "https://localhost:8080/",
          "height": 204
        },
        "outputId": "62b6bad5-1563-486e-bbfe-3a7337a26f89"
      },
      "source": [
        "results = model.evaluate(test_inpf)\n",
        "\n",
        "clear_output()\n",
        "\n",
        "for key,value in sorted(results.items()):\n",
        "  print('%s: %0.2f' % (key, value))"
      ],
      "execution_count": 44,
      "outputs": [
        {
          "output_type": "stream",
          "text": [
            "accuracy: 0.84\n",
            "accuracy_baseline: 0.76\n",
            "auc: 0.88\n",
            "auc_precision_recall: 0.69\n",
            "average_loss: 0.35\n",
            "global_step: 20351.00\n",
            "label/mean: 0.24\n",
            "loss: 22.64\n",
            "precision: 0.69\n",
            "prediction/mean: 0.24\n",
            "recall: 0.56\n"
          ],
          "name": "stdout"
        }
      ]
    },
    {
      "cell_type": "code",
      "metadata": {
        "id": "wIWvNqpIn1k0",
        "colab_type": "code",
        "colab": {
          "base_uri": "https://localhost:8080/",
          "height": 669
        },
        "outputId": "60bcf7c6-0cb3-45e0-b22c-7ab17b7ef244"
      },
      "source": [
        "import numpy as np\n",
        "\n",
        "predict_df = test_df[:20].copy()\n",
        "\n",
        "pred_iter = model.predict(\n",
        "    lambda:easy_input_function(predict_df, label_key='income_bracket',\n",
        "                               num_epochs=1, shuffle=False, batch_size=10))\n",
        "\n",
        "classes = np.array(['<=50K', '>50K'])\n",
        "pred_class_id = []\n",
        "\n",
        "for pred_dict in pred_iter:\n",
        "  pred_class_id.append(pred_dict['class_ids'])\n",
        "\n",
        "predict_df['predicted_class'] = classes[np.array(pred_class_id)]\n",
        "predict_df['correct'] = predict_df['predicted_class'] == predict_df['income_bracket']\n",
        "\n",
        "clear_output()\n",
        "\n",
        "predict_df[['income_bracket','predicted_class', 'correct']]"
      ],
      "execution_count": 45,
      "outputs": [
        {
          "output_type": "execute_result",
          "data": {
            "text/html": [
              "<div>\n",
              "<style scoped>\n",
              "    .dataframe tbody tr th:only-of-type {\n",
              "        vertical-align: middle;\n",
              "    }\n",
              "\n",
              "    .dataframe tbody tr th {\n",
              "        vertical-align: top;\n",
              "    }\n",
              "\n",
              "    .dataframe thead th {\n",
              "        text-align: right;\n",
              "    }\n",
              "</style>\n",
              "<table border=\"1\" class=\"dataframe\">\n",
              "  <thead>\n",
              "    <tr style=\"text-align: right;\">\n",
              "      <th></th>\n",
              "      <th>income_bracket</th>\n",
              "      <th>predicted_class</th>\n",
              "      <th>correct</th>\n",
              "    </tr>\n",
              "  </thead>\n",
              "  <tbody>\n",
              "    <tr>\n",
              "      <th>0</th>\n",
              "      <td>&lt;=50K</td>\n",
              "      <td>&lt;=50K</td>\n",
              "      <td>True</td>\n",
              "    </tr>\n",
              "    <tr>\n",
              "      <th>1</th>\n",
              "      <td>&lt;=50K</td>\n",
              "      <td>&lt;=50K</td>\n",
              "      <td>True</td>\n",
              "    </tr>\n",
              "    <tr>\n",
              "      <th>2</th>\n",
              "      <td>&gt;50K</td>\n",
              "      <td>&lt;=50K</td>\n",
              "      <td>False</td>\n",
              "    </tr>\n",
              "    <tr>\n",
              "      <th>3</th>\n",
              "      <td>&gt;50K</td>\n",
              "      <td>&lt;=50K</td>\n",
              "      <td>False</td>\n",
              "    </tr>\n",
              "    <tr>\n",
              "      <th>4</th>\n",
              "      <td>&lt;=50K</td>\n",
              "      <td>&lt;=50K</td>\n",
              "      <td>True</td>\n",
              "    </tr>\n",
              "    <tr>\n",
              "      <th>5</th>\n",
              "      <td>&lt;=50K</td>\n",
              "      <td>&lt;=50K</td>\n",
              "      <td>True</td>\n",
              "    </tr>\n",
              "    <tr>\n",
              "      <th>6</th>\n",
              "      <td>&lt;=50K</td>\n",
              "      <td>&lt;=50K</td>\n",
              "      <td>True</td>\n",
              "    </tr>\n",
              "    <tr>\n",
              "      <th>7</th>\n",
              "      <td>&gt;50K</td>\n",
              "      <td>&gt;50K</td>\n",
              "      <td>True</td>\n",
              "    </tr>\n",
              "    <tr>\n",
              "      <th>8</th>\n",
              "      <td>&lt;=50K</td>\n",
              "      <td>&lt;=50K</td>\n",
              "      <td>True</td>\n",
              "    </tr>\n",
              "    <tr>\n",
              "      <th>9</th>\n",
              "      <td>&lt;=50K</td>\n",
              "      <td>&lt;=50K</td>\n",
              "      <td>True</td>\n",
              "    </tr>\n",
              "    <tr>\n",
              "      <th>10</th>\n",
              "      <td>&gt;50K</td>\n",
              "      <td>&lt;=50K</td>\n",
              "      <td>False</td>\n",
              "    </tr>\n",
              "    <tr>\n",
              "      <th>11</th>\n",
              "      <td>&lt;=50K</td>\n",
              "      <td>&gt;50K</td>\n",
              "      <td>False</td>\n",
              "    </tr>\n",
              "    <tr>\n",
              "      <th>12</th>\n",
              "      <td>&lt;=50K</td>\n",
              "      <td>&lt;=50K</td>\n",
              "      <td>True</td>\n",
              "    </tr>\n",
              "    <tr>\n",
              "      <th>13</th>\n",
              "      <td>&lt;=50K</td>\n",
              "      <td>&lt;=50K</td>\n",
              "      <td>True</td>\n",
              "    </tr>\n",
              "    <tr>\n",
              "      <th>14</th>\n",
              "      <td>&gt;50K</td>\n",
              "      <td>&lt;=50K</td>\n",
              "      <td>False</td>\n",
              "    </tr>\n",
              "    <tr>\n",
              "      <th>15</th>\n",
              "      <td>&gt;50K</td>\n",
              "      <td>&gt;50K</td>\n",
              "      <td>True</td>\n",
              "    </tr>\n",
              "    <tr>\n",
              "      <th>16</th>\n",
              "      <td>&lt;=50K</td>\n",
              "      <td>&lt;=50K</td>\n",
              "      <td>True</td>\n",
              "    </tr>\n",
              "    <tr>\n",
              "      <th>17</th>\n",
              "      <td>&lt;=50K</td>\n",
              "      <td>&lt;=50K</td>\n",
              "      <td>True</td>\n",
              "    </tr>\n",
              "    <tr>\n",
              "      <th>18</th>\n",
              "      <td>&lt;=50K</td>\n",
              "      <td>&lt;=50K</td>\n",
              "      <td>True</td>\n",
              "    </tr>\n",
              "    <tr>\n",
              "      <th>19</th>\n",
              "      <td>&gt;50K</td>\n",
              "      <td>&gt;50K</td>\n",
              "      <td>True</td>\n",
              "    </tr>\n",
              "  </tbody>\n",
              "</table>\n",
              "</div>"
            ],
            "text/plain": [
              "   income_bracket predicted_class  correct\n",
              "0           <=50K           <=50K     True\n",
              "1           <=50K           <=50K     True\n",
              "2            >50K           <=50K    False\n",
              "3            >50K           <=50K    False\n",
              "4           <=50K           <=50K     True\n",
              "5           <=50K           <=50K     True\n",
              "6           <=50K           <=50K     True\n",
              "7            >50K            >50K     True\n",
              "8           <=50K           <=50K     True\n",
              "9           <=50K           <=50K     True\n",
              "10           >50K           <=50K    False\n",
              "11          <=50K            >50K    False\n",
              "12          <=50K           <=50K     True\n",
              "13          <=50K           <=50K     True\n",
              "14           >50K           <=50K    False\n",
              "15           >50K            >50K     True\n",
              "16          <=50K           <=50K     True\n",
              "17          <=50K           <=50K     True\n",
              "18          <=50K           <=50K     True\n",
              "19           >50K            >50K     True"
            ]
          },
          "metadata": {
            "tags": []
          },
          "execution_count": 45
        }
      ]
    },
    {
      "cell_type": "code",
      "metadata": {
        "id": "bGKY3B4rn5xt",
        "colab_type": "code",
        "colab": {
          "base_uri": "https://localhost:8080/",
          "height": 204
        },
        "outputId": "e9beed7b-a22d-4e7f-cf64-ea0398c17193"
      },
      "source": [
        "model_l1 = tf.estimator.LinearClassifier(\n",
        "    feature_columns=base_columns + crossed_columns,\n",
        "    optimizer=tf.train.FtrlOptimizer(\n",
        "        learning_rate=0.1,\n",
        "        l1_regularization_strength=10.0,\n",
        "        l2_regularization_strength=0.0))\n",
        "\n",
        "model_l1.train(train_inpf)\n",
        "\n",
        "results = model_l1.evaluate(test_inpf)\n",
        "clear_output()\n",
        "for key in sorted(results):\n",
        "  print('%s: %0.2f' % (key, results[key]))"
      ],
      "execution_count": 46,
      "outputs": [
        {
          "output_type": "stream",
          "text": [
            "accuracy: 0.84\n",
            "accuracy_baseline: 0.76\n",
            "auc: 0.88\n",
            "auc_precision_recall: 0.69\n",
            "average_loss: 0.35\n",
            "global_step: 20351.00\n",
            "label/mean: 0.24\n",
            "loss: 22.47\n",
            "precision: 0.69\n",
            "prediction/mean: 0.24\n",
            "recall: 0.55\n"
          ],
          "name": "stdout"
        }
      ]
    },
    {
      "cell_type": "code",
      "metadata": {
        "id": "7J2LLbxToVll",
        "colab_type": "code",
        "colab": {
          "base_uri": "https://localhost:8080/",
          "height": 204
        },
        "outputId": "28b3005f-d3c3-4883-a212-b3cd04c09c27"
      },
      "source": [
        "model_l2 = tf.estimator.LinearClassifier(\n",
        "    feature_columns=base_columns + crossed_columns,\n",
        "    optimizer=tf.train.FtrlOptimizer(\n",
        "        learning_rate=0.1,\n",
        "        l1_regularization_strength=0.0,\n",
        "        l2_regularization_strength=10.0))\n",
        "\n",
        "model_l2.train(train_inpf)\n",
        "\n",
        "results = model_l2.evaluate(test_inpf)\n",
        "clear_output()\n",
        "for key in sorted(results):\n",
        "  print('%s: %0.2f' % (key, results[key]))"
      ],
      "execution_count": 53,
      "outputs": [
        {
          "output_type": "stream",
          "text": [
            "accuracy: 0.84\n",
            "accuracy_baseline: 0.76\n",
            "auc: 0.88\n",
            "auc_precision_recall: 0.69\n",
            "average_loss: 0.35\n",
            "global_step: 20351.00\n",
            "label/mean: 0.24\n",
            "loss: 22.46\n",
            "precision: 0.69\n",
            "prediction/mean: 0.24\n",
            "recall: 0.56\n"
          ],
          "name": "stdout"
        }
      ]
    },
    {
      "cell_type": "code",
      "metadata": {
        "id": "UnYoadnKpaEL",
        "colab_type": "code",
        "colab": {}
      },
      "source": [
        "def get_flat_weights(model):\n",
        "  weight_names = [\n",
        "      name for name in model.get_variable_names()\n",
        "      if \"linear_model\" in name and \"Ftrl\" not in name]\n",
        "\n",
        "  weight_values = [model.get_variable_value(name) for name in weight_names]\n",
        "\n",
        "  weights_flat = np.concatenate([item.flatten() for item in weight_values], axis=0)\n",
        "\n",
        "  return weights_flat\n",
        "\n",
        "weights_flat = get_flat_weights(model)\n",
        "weights_flat_l1 = get_flat_weights(model_l1)\n",
        "weights_flat_l2 = get_flat_weights(model_l2)"
      ],
      "execution_count": 0,
      "outputs": []
    },
    {
      "cell_type": "code",
      "metadata": {
        "id": "UBjOpBfqp1kn",
        "colab_type": "code",
        "colab": {}
      },
      "source": [
        "weight_mask = weights_flat != 0\n",
        "\n",
        "weights_base = weights_flat[weight_mask]\n",
        "weights_l1 = weights_flat_l1[weight_mask]\n",
        "weights_l2 = weights_flat_l2[weight_mask]"
      ],
      "execution_count": 0,
      "outputs": []
    },
    {
      "cell_type": "markdown",
      "metadata": {
        "id": "0gvQYd3Kpu9W",
        "colab_type": "text"
      },
      "source": [
        ""
      ]
    },
    {
      "cell_type": "code",
      "metadata": {
        "id": "XcSINjIroYke",
        "colab_type": "code",
        "colab": {
          "base_uri": "https://localhost:8080/",
          "height": 809
        },
        "outputId": "4a4327a0-0493-45cb-fbbc-3235cdf1e23b"
      },
      "source": [
        "plt.figure()\n",
        "_ = plt.hist(weights_base, bins=np.linspace(-3,3,30))\n",
        "plt.title('Base Model')\n",
        "plt.ylim([0,500])\n",
        "\n",
        "plt.figure()\n",
        "_ = plt.hist(weights_l1, bins=np.linspace(-3,3,30))\n",
        "plt.title('L1 - Regularization')\n",
        "plt.ylim([0,500])\n",
        "\n",
        "plt.figure()\n",
        "_ = plt.hist(weights_l2, bins=np.linspace(-3,3,30))\n",
        "plt.title('L2 - Regularization')\n",
        "_=plt.ylim([0,500])\n"
      ],
      "execution_count": 56,
      "outputs": [
        {
          "output_type": "display_data",
          "data": {
            "image/png": "[encoded data removed]",
            "text/plain": [
              "<Figure size 432x288 with 1 Axes>"
            ]
          },
          "metadata": {
            "tags": []
          }
        },
        {
          "output_type": "display_data",
          "data": {
            "image/png": "[encoded data removed]",
            "text/plain": [
              "<Figure size 432x288 with 1 Axes>"
            ]
          },
          "metadata": {
            "tags": []
          }
        },
        {
          "output_type": "display_data",
          "data": {
            "image/png": "[encoded data removed]",
            "text/plain": [
              "<Figure size 432x288 with 1 Axes>"
            ]
          },
          "metadata": {
            "tags": []
          }
        }
      ]
    }
  ]
}